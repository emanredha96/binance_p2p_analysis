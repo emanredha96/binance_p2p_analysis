{
 "cells": [
  {
   "cell_type": "markdown",
   "id": "04445641-33f3-4fc5-86ee-62c44f0912aa",
   "metadata": {},
   "source": [
    "## Introduction"
   ]
  },
  {
   "cell_type": "markdown",
   "id": "7426a377-f34d-47b2-8bf0-1ea37ff503bb",
   "metadata": {},
   "source": [
    "### DONT FORGET TO FILL\n",
    "##### Link to the original data source, data dictionary and the raw data file (important for your instructor to run your code)"
   ]
  },
  {
   "cell_type": "markdown",
   "id": "ea610e5a-2cfc-4f3f-ac89-9e53ca1373b5",
   "metadata": {},
   "source": [
    "### Questions:\n",
    "##### 1. Is there a difference in the average scores of math, reading, and writing between male and female students?\n",
    "##### 2. Is there a relation between the test preperation course and the scores?\n",
    "##### 3. Is there a relationship between the parental level of education and scores?"
   ]
  },
  {
   "cell_type": "markdown",
   "id": "2692e6ad-798e-421c-b41b-0cdae656f6ef",
   "metadata": {},
   "source": [
    "### Start of Analysis"
   ]
  },
  {
   "cell_type": "code",
   "execution_count": 14,
   "id": "42b99de0-2cbd-4c50-a5f5-2b842ef3f496",
   "metadata": {},
   "outputs": [],
   "source": [
    "import pandas as pd"
   ]
  },
  {
   "cell_type": "code",
   "execution_count": 16,
   "id": "5897ebed-4e15-4b00-bc60-05113e2f225c",
   "metadata": {},
   "outputs": [],
   "source": [
    "students_per= pd.read_csv(\"StudentsPerformance.csv\")\n",
    "#Rename of the file"
   ]
  },
  {
   "cell_type": "code",
   "execution_count": 18,
   "id": "79c6ad7e-d249-4ebf-a097-f71e826b11fc",
   "metadata": {},
   "outputs": [
    {
     "name": "stdout",
     "output_type": "stream",
     "text": [
      "<class 'pandas.core.frame.DataFrame'>\n",
      "RangeIndex: 1000 entries, 0 to 999\n",
      "Data columns (total 8 columns):\n",
      " #   Column                       Non-Null Count  Dtype \n",
      "---  ------                       --------------  ----- \n",
      " 0   gender                       1000 non-null   object\n",
      " 1   race/ethnicity               1000 non-null   object\n",
      " 2   parental level of education  1000 non-null   object\n",
      " 3   lunch                        1000 non-null   object\n",
      " 4   test preparation course      1000 non-null   object\n",
      " 5   math score                   1000 non-null   int64 \n",
      " 6   reading score                1000 non-null   int64 \n",
      " 7   writing score                1000 non-null   int64 \n",
      "dtypes: int64(3), object(5)\n",
      "memory usage: 62.6+ KB\n"
     ]
    }
   ],
   "source": [
    "students_per.info()\n",
    "#we used the informations function to visualize the data we have \n",
    "#in order to view whether the data requires cleaning or not"
   ]
  },
  {
   "cell_type": "markdown",
   "id": "1dc642a3-8e75-4aeb-ac29-7f6307bf8d82",
   "metadata": {},
   "source": [
    "### Data Cleaning"
   ]
  },
  {
   "cell_type": "code",
   "execution_count": 21,
   "id": "38b847fb-3b54-425d-97c3-49420ea58b0a",
   "metadata": {},
   "outputs": [],
   "source": [
    "students_per= students_per.drop(columns=['race/ethnicity','lunch'])\n",
    "# we removed two columns that are not related to the Problem Statement (Race/Ethnicity & Lunch)"
   ]
  },
  {
   "cell_type": "code",
   "execution_count": 23,
   "id": "743558ce-fc6d-4597-979c-6f329e0ee5cd",
   "metadata": {},
   "outputs": [
    {
     "name": "stdout",
     "output_type": "stream",
     "text": [
      "<class 'pandas.core.frame.DataFrame'>\n",
      "RangeIndex: 1000 entries, 0 to 999\n",
      "Data columns (total 6 columns):\n",
      " #   Column                       Non-Null Count  Dtype \n",
      "---  ------                       --------------  ----- \n",
      " 0   gender                       1000 non-null   object\n",
      " 1   parental level of education  1000 non-null   object\n",
      " 2   test preparation course      1000 non-null   object\n",
      " 3   math score                   1000 non-null   int64 \n",
      " 4   reading score                1000 non-null   int64 \n",
      " 5   writing score                1000 non-null   int64 \n",
      "dtypes: int64(3), object(3)\n",
      "memory usage: 47.0+ KB\n"
     ]
    }
   ],
   "source": [
    "students_per.info()\n",
    "# we used the function again to confirm that the columns have been removed"
   ]
  },
  {
   "cell_type": "markdown",
   "id": "8e36b2ae-ce69-40b2-bdd3-e6a394b14413",
   "metadata": {},
   "source": [
    "## 3. Is there a relationship between the parental level of education and scores?"
   ]
  },
  {
   "cell_type": "code",
   "execution_count": 61,
   "id": "3af9b4f0-5b9c-4de3-9cd6-19fc34faa1e7",
   "metadata": {},
   "outputs": [
    {
     "data": {
      "text/html": [
       "<div>\n",
       "<style scoped>\n",
       "    .dataframe tbody tr th:only-of-type {\n",
       "        vertical-align: middle;\n",
       "    }\n",
       "\n",
       "    .dataframe tbody tr th {\n",
       "        vertical-align: top;\n",
       "    }\n",
       "\n",
       "    .dataframe thead th {\n",
       "        text-align: right;\n",
       "    }\n",
       "</style>\n",
       "<table border=\"1\" class=\"dataframe\">\n",
       "  <thead>\n",
       "    <tr style=\"text-align: right;\">\n",
       "      <th></th>\n",
       "      <th>math score</th>\n",
       "    </tr>\n",
       "    <tr>\n",
       "      <th>parental level of education</th>\n",
       "      <th></th>\n",
       "    </tr>\n",
       "  </thead>\n",
       "  <tbody>\n",
       "    <tr>\n",
       "      <th>high school</th>\n",
       "      <td>62.137755</td>\n",
       "    </tr>\n",
       "    <tr>\n",
       "      <th>some high school</th>\n",
       "      <td>63.497207</td>\n",
       "    </tr>\n",
       "    <tr>\n",
       "      <th>some college</th>\n",
       "      <td>67.128319</td>\n",
       "    </tr>\n",
       "    <tr>\n",
       "      <th>associate's degree</th>\n",
       "      <td>67.882883</td>\n",
       "    </tr>\n",
       "    <tr>\n",
       "      <th>bachelor's degree</th>\n",
       "      <td>69.389831</td>\n",
       "    </tr>\n",
       "    <tr>\n",
       "      <th>master's degree</th>\n",
       "      <td>69.745763</td>\n",
       "    </tr>\n",
       "  </tbody>\n",
       "</table>\n",
       "</div>"
      ],
      "text/plain": [
       "                             math score\n",
       "parental level of education            \n",
       "high school                   62.137755\n",
       "some high school              63.497207\n",
       "some college                  67.128319\n",
       "associate's degree            67.882883\n",
       "bachelor's degree             69.389831\n",
       "master's degree               69.745763"
      ]
     },
     "execution_count": 61,
     "metadata": {},
     "output_type": "execute_result"
    }
   ],
   "source": [
    "cols_to_see =[\"parental level of education\", \"math score\"]\n",
    "students_per[cols_to_see].groupby([\"parental level of education\"]).mean().sort_values(by='math score')"
   ]
  },
  {
   "cell_type": "code",
   "execution_count": 105,
   "id": "6305cc84-75dd-41eb-b564-ee3498efd0fd",
   "metadata": {},
   "outputs": [],
   "source": [
    "def avg(scores):\n",
    "    return sum(scores)/3"
   ]
  },
  {
   "cell_type": "code",
   "execution_count": 111,
   "id": "5f81c11a-b330-4f51-809e-0cf7b814224a",
   "metadata": {
    "scrolled": true
   },
   "outputs": [],
   "source": [
    "#students_per.columns"
   ]
  },
  {
   "cell_type": "code",
   "execution_count": 107,
   "id": "30316726-cf91-41e9-900a-85bc8c86403b",
   "metadata": {
    "scrolled": true
   },
   "outputs": [],
   "source": [
    "students_per['avg score'] = students_per[['math score', 'reading score', 'writing score']].apply(avg, axis=1)"
   ]
  },
  {
   "cell_type": "code",
   "execution_count": 109,
   "id": "84d6fa36-6cd0-4fd8-939c-6da2535e1a13",
   "metadata": {},
   "outputs": [
    {
     "data": {
      "text/html": [
       "<div>\n",
       "<style scoped>\n",
       "    .dataframe tbody tr th:only-of-type {\n",
       "        vertical-align: middle;\n",
       "    }\n",
       "\n",
       "    .dataframe tbody tr th {\n",
       "        vertical-align: top;\n",
       "    }\n",
       "\n",
       "    .dataframe thead th {\n",
       "        text-align: right;\n",
       "    }\n",
       "</style>\n",
       "<table border=\"1\" class=\"dataframe\">\n",
       "  <thead>\n",
       "    <tr style=\"text-align: right;\">\n",
       "      <th></th>\n",
       "      <th>gender</th>\n",
       "      <th>parental level of education</th>\n",
       "      <th>test preparation course</th>\n",
       "      <th>math score</th>\n",
       "      <th>reading score</th>\n",
       "      <th>writing score</th>\n",
       "      <th>avg score</th>\n",
       "    </tr>\n",
       "  </thead>\n",
       "  <tbody>\n",
       "    <tr>\n",
       "      <th>0</th>\n",
       "      <td>female</td>\n",
       "      <td>bachelor's degree</td>\n",
       "      <td>none</td>\n",
       "      <td>72</td>\n",
       "      <td>72</td>\n",
       "      <td>74</td>\n",
       "      <td>72.666667</td>\n",
       "    </tr>\n",
       "    <tr>\n",
       "      <th>1</th>\n",
       "      <td>female</td>\n",
       "      <td>some college</td>\n",
       "      <td>completed</td>\n",
       "      <td>69</td>\n",
       "      <td>90</td>\n",
       "      <td>88</td>\n",
       "      <td>82.333333</td>\n",
       "    </tr>\n",
       "    <tr>\n",
       "      <th>2</th>\n",
       "      <td>female</td>\n",
       "      <td>master's degree</td>\n",
       "      <td>none</td>\n",
       "      <td>90</td>\n",
       "      <td>95</td>\n",
       "      <td>93</td>\n",
       "      <td>92.666667</td>\n",
       "    </tr>\n",
       "    <tr>\n",
       "      <th>3</th>\n",
       "      <td>male</td>\n",
       "      <td>associate's degree</td>\n",
       "      <td>none</td>\n",
       "      <td>47</td>\n",
       "      <td>57</td>\n",
       "      <td>44</td>\n",
       "      <td>49.333333</td>\n",
       "    </tr>\n",
       "    <tr>\n",
       "      <th>4</th>\n",
       "      <td>male</td>\n",
       "      <td>some college</td>\n",
       "      <td>none</td>\n",
       "      <td>76</td>\n",
       "      <td>78</td>\n",
       "      <td>75</td>\n",
       "      <td>76.333333</td>\n",
       "    </tr>\n",
       "    <tr>\n",
       "      <th>...</th>\n",
       "      <td>...</td>\n",
       "      <td>...</td>\n",
       "      <td>...</td>\n",
       "      <td>...</td>\n",
       "      <td>...</td>\n",
       "      <td>...</td>\n",
       "      <td>...</td>\n",
       "    </tr>\n",
       "    <tr>\n",
       "      <th>995</th>\n",
       "      <td>female</td>\n",
       "      <td>master's degree</td>\n",
       "      <td>completed</td>\n",
       "      <td>88</td>\n",
       "      <td>99</td>\n",
       "      <td>95</td>\n",
       "      <td>94.000000</td>\n",
       "    </tr>\n",
       "    <tr>\n",
       "      <th>996</th>\n",
       "      <td>male</td>\n",
       "      <td>high school</td>\n",
       "      <td>none</td>\n",
       "      <td>62</td>\n",
       "      <td>55</td>\n",
       "      <td>55</td>\n",
       "      <td>57.333333</td>\n",
       "    </tr>\n",
       "    <tr>\n",
       "      <th>997</th>\n",
       "      <td>female</td>\n",
       "      <td>high school</td>\n",
       "      <td>completed</td>\n",
       "      <td>59</td>\n",
       "      <td>71</td>\n",
       "      <td>65</td>\n",
       "      <td>65.000000</td>\n",
       "    </tr>\n",
       "    <tr>\n",
       "      <th>998</th>\n",
       "      <td>female</td>\n",
       "      <td>some college</td>\n",
       "      <td>completed</td>\n",
       "      <td>68</td>\n",
       "      <td>78</td>\n",
       "      <td>77</td>\n",
       "      <td>74.333333</td>\n",
       "    </tr>\n",
       "    <tr>\n",
       "      <th>999</th>\n",
       "      <td>female</td>\n",
       "      <td>some college</td>\n",
       "      <td>none</td>\n",
       "      <td>77</td>\n",
       "      <td>86</td>\n",
       "      <td>86</td>\n",
       "      <td>83.000000</td>\n",
       "    </tr>\n",
       "  </tbody>\n",
       "</table>\n",
       "<p>1000 rows × 7 columns</p>\n",
       "</div>"
      ],
      "text/plain": [
       "     gender parental level of education test preparation course  math score  \\\n",
       "0    female           bachelor's degree                    none          72   \n",
       "1    female                some college               completed          69   \n",
       "2    female             master's degree                    none          90   \n",
       "3      male          associate's degree                    none          47   \n",
       "4      male                some college                    none          76   \n",
       "..      ...                         ...                     ...         ...   \n",
       "995  female             master's degree               completed          88   \n",
       "996    male                 high school                    none          62   \n",
       "997  female                 high school               completed          59   \n",
       "998  female                some college               completed          68   \n",
       "999  female                some college                    none          77   \n",
       "\n",
       "     reading score  writing score  avg score  \n",
       "0               72             74  72.666667  \n",
       "1               90             88  82.333333  \n",
       "2               95             93  92.666667  \n",
       "3               57             44  49.333333  \n",
       "4               78             75  76.333333  \n",
       "..             ...            ...        ...  \n",
       "995             99             95  94.000000  \n",
       "996             55             55  57.333333  \n",
       "997             71             65  65.000000  \n",
       "998             78             77  74.333333  \n",
       "999             86             86  83.000000  \n",
       "\n",
       "[1000 rows x 7 columns]"
      ]
     },
     "execution_count": 109,
     "metadata": {},
     "output_type": "execute_result"
    }
   ],
   "source": [
    "students_per"
   ]
  },
  {
   "cell_type": "code",
   "execution_count": 147,
   "id": "0a8f02bd-a3ba-45d3-9bef-0b6c6ebfbaa3",
   "metadata": {},
   "outputs": [
    {
     "data": {
      "text/html": [
       "<div>\n",
       "<style scoped>\n",
       "    .dataframe tbody tr th:only-of-type {\n",
       "        vertical-align: middle;\n",
       "    }\n",
       "\n",
       "    .dataframe tbody tr th {\n",
       "        vertical-align: top;\n",
       "    }\n",
       "\n",
       "    .dataframe thead th {\n",
       "        text-align: right;\n",
       "    }\n",
       "</style>\n",
       "<table border=\"1\" class=\"dataframe\">\n",
       "  <thead>\n",
       "    <tr style=\"text-align: right;\">\n",
       "      <th></th>\n",
       "      <th>parental level of education</th>\n",
       "      <th>math score</th>\n",
       "      <th>reading score</th>\n",
       "      <th>writing score</th>\n",
       "      <th>avg score</th>\n",
       "    </tr>\n",
       "  </thead>\n",
       "  <tbody>\n",
       "    <tr>\n",
       "      <th>0</th>\n",
       "      <td>high school</td>\n",
       "      <td>62.137755</td>\n",
       "      <td>64.704082</td>\n",
       "      <td>62.448980</td>\n",
       "      <td>63.096939</td>\n",
       "    </tr>\n",
       "    <tr>\n",
       "      <th>1</th>\n",
       "      <td>some high school</td>\n",
       "      <td>63.497207</td>\n",
       "      <td>66.938547</td>\n",
       "      <td>64.888268</td>\n",
       "      <td>65.108007</td>\n",
       "    </tr>\n",
       "    <tr>\n",
       "      <th>2</th>\n",
       "      <td>some college</td>\n",
       "      <td>67.128319</td>\n",
       "      <td>69.460177</td>\n",
       "      <td>68.840708</td>\n",
       "      <td>68.476401</td>\n",
       "    </tr>\n",
       "    <tr>\n",
       "      <th>3</th>\n",
       "      <td>associate's degree</td>\n",
       "      <td>67.882883</td>\n",
       "      <td>70.927928</td>\n",
       "      <td>69.896396</td>\n",
       "      <td>69.569069</td>\n",
       "    </tr>\n",
       "    <tr>\n",
       "      <th>4</th>\n",
       "      <td>bachelor's degree</td>\n",
       "      <td>69.389831</td>\n",
       "      <td>73.000000</td>\n",
       "      <td>73.381356</td>\n",
       "      <td>71.923729</td>\n",
       "    </tr>\n",
       "    <tr>\n",
       "      <th>5</th>\n",
       "      <td>master's degree</td>\n",
       "      <td>69.745763</td>\n",
       "      <td>75.372881</td>\n",
       "      <td>75.677966</td>\n",
       "      <td>73.598870</td>\n",
       "    </tr>\n",
       "  </tbody>\n",
       "</table>\n",
       "</div>"
      ],
      "text/plain": [
       "  parental level of education  math score  reading score  writing score  \\\n",
       "0                 high school   62.137755      64.704082      62.448980   \n",
       "1            some high school   63.497207      66.938547      64.888268   \n",
       "2                some college   67.128319      69.460177      68.840708   \n",
       "3          associate's degree   67.882883      70.927928      69.896396   \n",
       "4           bachelor's degree   69.389831      73.000000      73.381356   \n",
       "5             master's degree   69.745763      75.372881      75.677966   \n",
       "\n",
       "   avg score  \n",
       "0  63.096939  \n",
       "1  65.108007  \n",
       "2  68.476401  \n",
       "3  69.569069  \n",
       "4  71.923729  \n",
       "5  73.598870  "
      ]
     },
     "execution_count": 147,
     "metadata": {},
     "output_type": "execute_result"
    }
   ],
   "source": [
    "cols_to_see =[\"parental level of education\", \"math score\", \"reading score\", \"writing score\", \"avg score\"]\n",
    "temp = students_per[cols_to_see].groupby([\"parental level of education\"]).mean().sort_values(by='avg score').reset_index()\n",
    "temp"
   ]
  },
  {
   "cell_type": "code",
   "execution_count": 149,
   "id": "da81fac7-8cfb-409c-aa0a-2fac67b5dfd8",
   "metadata": {},
   "outputs": [
    {
     "data": {
      "text/plain": [
       "<Axes: xlabel='parental level of education'>"
      ]
     },
     "execution_count": 149,
     "metadata": {},
     "output_type": "execute_result"
    },
    {
     "data": {
      "image/png": "[encoded data removed]",
      "text/plain": [
       "<Figure size 640x480 with 1 Axes>"
      ]
     },
     "metadata": {},
     "output_type": "display_data"
    }
   ],
   "source": [
    "temp.plot(kind=\"bar\", x=\"parental level of education\", y=\"avg score\")"
   ]
  },
  {
   "cell_type": "code",
   "execution_count": 31,
   "id": "08dcb6a3-55bb-4dfa-a134-990689d68984",
   "metadata": {},
   "outputs": [
    {
     "data": {
      "text/html": [
       "<div>\n",
       "<style scoped>\n",
       "    .dataframe tbody tr th:only-of-type {\n",
       "        vertical-align: middle;\n",
       "    }\n",
       "\n",
       "    .dataframe tbody tr th {\n",
       "        vertical-align: top;\n",
       "    }\n",
       "\n",
       "    .dataframe thead th {\n",
       "        text-align: right;\n",
       "    }\n",
       "</style>\n",
       "<table border=\"1\" class=\"dataframe\">\n",
       "  <thead>\n",
       "    <tr style=\"text-align: right;\">\n",
       "      <th></th>\n",
       "      <th>gender</th>\n",
       "      <th>parental level of education</th>\n",
       "      <th>test preparation course</th>\n",
       "      <th>math score</th>\n",
       "      <th>reading score</th>\n",
       "      <th>writing score</th>\n",
       "    </tr>\n",
       "  </thead>\n",
       "  <tbody>\n",
       "    <tr>\n",
       "      <th>0</th>\n",
       "      <td>female</td>\n",
       "      <td>bachelor's degree</td>\n",
       "      <td>none</td>\n",
       "      <td>72</td>\n",
       "      <td>72</td>\n",
       "      <td>74</td>\n",
       "    </tr>\n",
       "  </tbody>\n",
       "</table>\n",
       "</div>"
      ],
      "text/plain": [
       "   gender parental level of education test preparation course  math score  \\\n",
       "0  female           bachelor's degree                    none          72   \n",
       "\n",
       "   reading score  writing score  \n",
       "0             72             74  "
      ]
     },
     "execution_count": 31,
     "metadata": {},
     "output_type": "execute_result"
    }
   ],
   "source": []
  },
  {
   "cell_type": "code",
   "execution_count": null,
   "id": "c39d0315-a1d6-432d-be58-c3d76437e4ce",
   "metadata": {},
   "outputs": [],
   "source": []
  }
 ],
 "metadata": {
  "kernelspec": {
   "display_name": "Python [conda env:base] *",
   "language": "python",
   "name": "conda-base-py"
  },
  "language_info": {
   "codemirror_mode": {
    "name": "ipython",
    "version": 3
   },
   "file_extension": ".py",
   "mimetype": "text/x-python",
   "name": "python",
   "nbconvert_exporter": "python",
   "pygments_lexer": "ipython3",
   "version": "3.12.7"
  }
 },
 "nbformat": 4,
 "nbformat_minor": 5
}
